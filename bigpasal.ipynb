{
 "cells": [
  {
   "cell_type": "code",
   "execution_count": 1,
   "metadata": {},
   "outputs": [],
   "source": [
    "import pandas as pd\n",
    "from bs4 import BeautifulSoup as bs\n",
    "import requests\n",
    "import csv"
   ]
  },
  {
   "cell_type": "code",
   "execution_count": 2,
   "metadata": {},
   "outputs": [],
   "source": [
    "response = requests.get(\"https://bigpasal.com/\")"
   ]
  },
  {
   "cell_type": "code",
   "execution_count": 5,
   "metadata": {},
   "outputs": [],
   "source": [
    "soup = bs(response.content, 'html.parser')"
   ]
  },
  {
   "cell_type": "code",
   "execution_count": 10,
   "metadata": {},
   "outputs": [],
   "source": [
    "menu_nav = soup.find(\"ul\", id = \"menu-new-1\")"
   ]
  },
  {
   "cell_type": "code",
   "execution_count": 13,
   "metadata": {},
   "outputs": [],
   "source": [
    "menu_nav = menu_nav.find_all(\"a\",href = True)\n",
    "list = []\n",
    "for a in menu_nav:\n",
    "    list.append(a[\"href\"])\n"
   ]
  },
  {
   "cell_type": "code",
   "execution_count": 27,
   "metadata": {},
   "outputs": [],
   "source": [
    "with open('bigpasal.csv','w') as f:\n",
    "    writer = csv.writer(f)\n",
    "    header = (\"catagory\",\"name\",\"img source\",\"price\")\n",
    "    writer.writerow(header)\n",
    "    for link in list:\n",
    "        response = requests.get(link)\n",
    "        soup = bs(response.content,'html.parser')\n",
    "        catagory = soup.find(\"div\", class_ = \"content-title-heading\").text.strip()\n",
    "        items = soup.find_all(\"div\", class_ = \"products-entry content-product1 clearfix product-wapper\")\n",
    "        for item in items:\n",
    "            img_src = item.img[\"src\"]\n",
    "            name = item.find(\"h3\", class_ = \"product-title\").text\n",
    "            price = item.find(\"span\", class_ = \"price\").text\n",
    "            row = (catagory,img_src,name,price)\n",
    "            writer.writerow(row)\n",
    "\n"
   ]
  },
  {
   "cell_type": "code",
   "execution_count": null,
   "metadata": {},
   "outputs": [],
   "source": []
  }
 ],
 "metadata": {
  "interpreter": {
   "hash": "916dbcbb3f70747c44a77c7bcd40155683ae19c65e1c03b4aa3499c5328201f1"
  },
  "kernelspec": {
   "display_name": "Python 3.8.10 64-bit",
   "language": "python",
   "name": "python3"
  },
  "language_info": {
   "codemirror_mode": {
    "name": "ipython",
    "version": 3
   },
   "file_extension": ".py",
   "mimetype": "text/x-python",
   "name": "python",
   "nbconvert_exporter": "python",
   "pygments_lexer": "ipython3",
   "version": "3.8.10"
  },
  "orig_nbformat": 4
 },
 "nbformat": 4,
 "nbformat_minor": 2
}
