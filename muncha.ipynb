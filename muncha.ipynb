{
 "cells": [
  {
   "cell_type": "code",
   "execution_count": 35,
   "metadata": {},
   "outputs": [],
   "source": [
    "import pandas as pd\n",
    "from bs4 import BeautifulSoup as bs\n",
    "import requests\n",
    "import csv\n"
   ]
  },
  {
   "cell_type": "code",
   "execution_count": 2,
   "metadata": {},
   "outputs": [],
   "source": []
  },
  {
   "cell_type": "code",
   "execution_count": 6,
   "metadata": {},
   "outputs": [],
   "source": [
    "### smartdoko"
   ]
  },
  {
   "cell_type": "code",
   "execution_count": 36,
   "metadata": {},
   "outputs": [],
   "source": [
    "response = requests.get(\"https://smartdoko.com/\")\n",
    "soup = bs(response.content, 'html.parser')"
   ]
  },
  {
   "cell_type": "code",
   "execution_count": 37,
   "metadata": {},
   "outputs": [],
   "source": [
    "links_list = []"
   ]
  },
  {
   "cell_type": "code",
   "execution_count": 38,
   "metadata": {},
   "outputs": [],
   "source": [
    "menu = soup.find(\"ul\",class_=\"menu\")\n",
    "links_tag = menu.find_all(\"a\",)\n",
    "for link in links_tag:\n",
    "    links_list.append(link[\"href\"])"
   ]
  },
  {
   "cell_type": "code",
   "execution_count": 39,
   "metadata": {},
   "outputs": [],
   "source": [
    "with open('smartdoko_links.csv','w') as file:\n",
    "    writer = csv.writer(file)\n",
    "    for link in links_list:\n",
    "        row = (link)\n",
    "        writer.writerow(row)\n",
    "        "
   ]
  },
  {
   "cell_type": "code",
   "execution_count": 41,
   "metadata": {},
   "outputs": [
    {
     "ename": "FeatureNotFound",
     "evalue": "Couldn't find a tree builder with the features you requested: lxml. Do you need to install a parser library?",
     "output_type": "error",
     "traceback": [
      "\u001b[0;31m---------------------------------------------------------------------------\u001b[0m",
      "\u001b[0;31mFeatureNotFound\u001b[0m                           Traceback (most recent call last)",
      "\u001b[1;32m/home/dell/web_scraping/1M_data_folder/muncha.ipynb Cell 8'\u001b[0m in \u001b[0;36m<cell line: 1>\u001b[0;34m()\u001b[0m\n\u001b[1;32m      <a href='vscode-notebook-cell:/home/dell/web_scraping/1M_data_folder/muncha.ipynb#ch0000007?line=0'>1</a>\u001b[0m \u001b[39mfor\u001b[39;00m link \u001b[39min\u001b[39;00m links_list:\n\u001b[1;32m      <a href='vscode-notebook-cell:/home/dell/web_scraping/1M_data_folder/muncha.ipynb#ch0000007?line=1'>2</a>\u001b[0m     response \u001b[39m=\u001b[39m requests\u001b[39m.\u001b[39mget(link)\n\u001b[0;32m----> <a href='vscode-notebook-cell:/home/dell/web_scraping/1M_data_folder/muncha.ipynb#ch0000007?line=2'>3</a>\u001b[0m     soup \u001b[39m=\u001b[39m bs(response\u001b[39m.\u001b[39;49mcontent, \u001b[39m'\u001b[39;49m\u001b[39mlxml\u001b[39;49m\u001b[39m'\u001b[39;49m)\n\u001b[1;32m      <a href='vscode-notebook-cell:/home/dell/web_scraping/1M_data_folder/muncha.ipynb#ch0000007?line=3'>4</a>\u001b[0m     body \u001b[39m=\u001b[39m soup\u001b[39m.\u001b[39mbody\n\u001b[1;32m      <a href='vscode-notebook-cell:/home/dell/web_scraping/1M_data_folder/muncha.ipynb#ch0000007?line=4'>5</a>\u001b[0m     body\u001b[39m.\u001b[39mfind(\u001b[39m\"\u001b[39m\u001b[39mdiv\u001b[39m\u001b[39m\"\u001b[39m,\u001b[39m\"\u001b[39m\u001b[39mproduct-name\u001b[39m\u001b[39m\"\u001b[39m)\n",
      "File \u001b[0;32m~/.local/lib/python3.8/site-packages/bs4/__init__.py:248\u001b[0m, in \u001b[0;36mBeautifulSoup.__init__\u001b[0;34m(self, markup, features, builder, parse_only, from_encoding, exclude_encodings, element_classes, **kwargs)\u001b[0m\n\u001b[1;32m    <a href='file:///home/dell/.local/lib/python3.8/site-packages/bs4/__init__.py?line=245'>246</a>\u001b[0m     builder_class \u001b[39m=\u001b[39m builder_registry\u001b[39m.\u001b[39mlookup(\u001b[39m*\u001b[39mfeatures)\n\u001b[1;32m    <a href='file:///home/dell/.local/lib/python3.8/site-packages/bs4/__init__.py?line=246'>247</a>\u001b[0m     \u001b[39mif\u001b[39;00m builder_class \u001b[39mis\u001b[39;00m \u001b[39mNone\u001b[39;00m:\n\u001b[0;32m--> <a href='file:///home/dell/.local/lib/python3.8/site-packages/bs4/__init__.py?line=247'>248</a>\u001b[0m         \u001b[39mraise\u001b[39;00m FeatureNotFound(\n\u001b[1;32m    <a href='file:///home/dell/.local/lib/python3.8/site-packages/bs4/__init__.py?line=248'>249</a>\u001b[0m             \u001b[39m\"\u001b[39m\u001b[39mCouldn\u001b[39m\u001b[39m'\u001b[39m\u001b[39mt find a tree builder with the features you \u001b[39m\u001b[39m\"\u001b[39m\n\u001b[1;32m    <a href='file:///home/dell/.local/lib/python3.8/site-packages/bs4/__init__.py?line=249'>250</a>\u001b[0m             \u001b[39m\"\u001b[39m\u001b[39mrequested: \u001b[39m\u001b[39m%s\u001b[39;00m\u001b[39m. Do you need to install a parser library?\u001b[39m\u001b[39m\"\u001b[39m\n\u001b[1;32m    <a href='file:///home/dell/.local/lib/python3.8/site-packages/bs4/__init__.py?line=250'>251</a>\u001b[0m             \u001b[39m%\u001b[39m \u001b[39m\"\u001b[39m\u001b[39m,\u001b[39m\u001b[39m\"\u001b[39m\u001b[39m.\u001b[39mjoin(features))\n\u001b[1;32m    <a href='file:///home/dell/.local/lib/python3.8/site-packages/bs4/__init__.py?line=252'>253</a>\u001b[0m \u001b[39m# At this point either we have a TreeBuilder instance in\u001b[39;00m\n\u001b[1;32m    <a href='file:///home/dell/.local/lib/python3.8/site-packages/bs4/__init__.py?line=253'>254</a>\u001b[0m \u001b[39m# builder, or we have a builder_class that we can instantiate\u001b[39;00m\n\u001b[1;32m    <a href='file:///home/dell/.local/lib/python3.8/site-packages/bs4/__init__.py?line=254'>255</a>\u001b[0m \u001b[39m# with the remaining **kwargs.\u001b[39;00m\n\u001b[1;32m    <a href='file:///home/dell/.local/lib/python3.8/site-packages/bs4/__init__.py?line=255'>256</a>\u001b[0m \u001b[39mif\u001b[39;00m builder \u001b[39mis\u001b[39;00m \u001b[39mNone\u001b[39;00m:\n",
      "\u001b[0;31mFeatureNotFound\u001b[0m: Couldn't find a tree builder with the features you requested: lxml. Do you need to install a parser library?"
     ]
    }
   ],
   "source": [
    "for link in links_list:\n",
    "    response = requests.get(link)\n",
    "    soup = bs(response.content, 'lxml')\n",
    "    body = soup.body\n",
    "    body.find(\"div\",\"product-name\")\n",
    "    \n"
   ]
  },
  {
   "cell_type": "code",
   "execution_count": null,
   "metadata": {},
   "outputs": [],
   "source": []
  },
  {
   "cell_type": "code",
   "execution_count": 19,
   "metadata": {},
   "outputs": [
    {
     "name": "stdout",
     "output_type": "stream",
     "text": [
      "₨ 300.00\n"
     ]
    }
   ],
   "source": [
    "response = requests.get(\"https://meroshoping.com/product-category/mobile-accessories/earphones/\")\n",
    "soup = bs(response.content, 'html.parser')\n",
    "main_content = soup.find(\"div\",\"product-wrapper\")\n",
    "name = main_content.find(\"h3\",class_ = \"wd-entities-title\").text\n",
    "catagory = soup.find(\"a\",class_ =\"breadcrumb-link breadcrumb-link-last\").text\n",
    "sub_catagory = main_content.find(\"div\",class_=\"wd-product-cats\").text\n",
    "price = main_content.find(\"span\",class_ =\"price\")\n",
    "actual_price = price.bdi.text\n",
    "discouted_price = price.ins.text\n",
    "\n",
    "\n",
    "print(dis)\n"
   ]
  },
  {
   "cell_type": "code",
   "execution_count": 41,
   "metadata": {},
   "outputs": [
    {
     "name": "stdout",
     "output_type": "stream",
     "text": [
      "<div class=\"product-wrapper\">\n",
      "<div class=\"content-product-imagin\"></div>\n",
      "<div class=\"product-element-top\">\n",
      "<a class=\"product-image-link\" href=\"https://meroshoping.com/product/samsung-galaxy-a72-8gb-128gb/\">\n",
      "<img alt=\"\" class=\"attachment-woocommerce_thumbnail size-woocommerce_thumbnail\" height=\"400\" loading=\"lazy\" sizes=\"(max-width: 300px) 100vw, 300px\" src=\"https://meroshoping.com/wp-content/uploads/2022/02/samsung-a72.jpg\" srcset=\"https://meroshoping.com/wp-content/uploads/2022/02/samsung-a72.jpg 300w, https://meroshoping.com/wp-content/uploads/2022/02/samsung-a72-225x300.jpg 225w, https://meroshoping.com/wp-content/uploads/2022/02/samsung-a72-150x200.jpg 150w\" width=\"300\"/> </a>\n",
      "<div class=\"wrapp-swatches\"> <div class=\"wd-compare-btn product-compare-button wd-action-btn wd-style-icon wd-compare-icon\">\n",
      "<a data-added-text=\"Compare products\" data-id=\"8643\" href=\"https://meroshoping.com/compare/\">\n",
      "\t\t\t\t\tCompare\t\t\t\t</a>\n",
      "</div>\n",
      "</div>\n",
      "<div class=\"quick-shop-wrapper wd-fill wd-scroll\">\n",
      "<div class=\"quick-shop-close wd-action-btn wd-style-text wd-cross-icon\"><a href=\"#\" rel=\"nofollow noopener\">Close</a></div>\n",
      "<div class=\"quick-shop-form wd-scroll-content\">\n",
      "</div>\n",
      "</div>\n",
      "</div>\n",
      "<div class=\"product-information\">\n",
      "<h3 class=\"wd-entities-title\"><a href=\"https://meroshoping.com/product/samsung-galaxy-a72-8gb-128gb/\">Samsung Galaxy A72 (8GB/128GB)</a></h3> <div class=\"wd-product-cats\">\n",
      "<a href=\"https://meroshoping.com/product-category/smartphones/samsung-mobiles/\" rel=\"tag\">SAMSUNG MOBILES</a> </div>\n",
      "<div class=\"product-rating-price\">\n",
      "<div class=\"wrapp-product-price\">\n",
      "<span class=\"price\"><span class=\"woocommerce-Price-amount amount\"><bdi><span class=\"woocommerce-Price-currencySymbol\">₨</span> 51,999.00</bdi></span></span>\n",
      "</div>\n",
      "</div>\n",
      "<div class=\"fade-in-block\">\n",
      "<div class=\"hover-content wd-more-desc\">\n",
      "<div class=\"hover-content-inner wd-more-desc-inner\">\n",
      "</div>\n",
      "<a aria-label=\"Read more description\" class=\"wd-more-desc-btn\" href=\"#\" rel=\"nofollow\"><span></span></a>\n",
      "</div>\n",
      "<div class=\"wd-bottom-actions\">\n",
      "<div class=\"wrap-wishlist-button\"> <div class=\"wd-wishlist-btn wd-action-btn wd-style-icon wd-wishlist-icon\">\n",
      "<a class=\"\" data-added-text=\"Browse Wishlist\" data-key=\"1f26dd130c\" data-product-id=\"8643\" href=\"https://meroshoping.com/wishlist/\">Add to wishlist</a>\n",
      "</div>\n",
      "</div>\n",
      "<div class=\"wd-add-btn wd-add-btn-replace\"><a aria-label=\"Buy “Samsung Galaxy A72 (8GB/128GB)”\" class=\"button product_type_external add-to-cart-loop\" data-product_id=\"8643\" data-product_sku=\"\" data-quantity=\"1\" href=\"https://www.daraz.com.np/products/samsung-galaxy-a72-8gb128gb-sm-a725fds-snp-drgn-720g-on-display-fingerprint-free-earphones-i110496456-s1029963032.html?spm=a2a0e.searchlist.list.1.7b012f2cNinLzm&amp;search=1\" rel=\"nofollow\"><span>Buy product</span></a></div>\n",
      "<div class=\"wrap-quickview-button\"> <div class=\"quick-view wd-action-btn wd-style-icon wd-quick-view-icon\">\n",
      "<a class=\"open-quick-view quick-view-button\" data-id=\"8643\" href=\"https://meroshoping.com/product/samsung-galaxy-a72-8gb-128gb/\">Quick view</a>\n",
      "</div>\n",
      "</div>\n",
      "</div>\n",
      "</div>\n",
      "</div>\n",
      "</div>\n"
     ]
    }
   ],
   "source": [
    "print(main_content)"
   ]
  },
  {
   "cell_type": "code",
   "execution_count": 14,
   "metadata": {},
   "outputs": [],
   "source": [
    "response = requests.get(\"https://meroshoping.com/\")\n",
    "soup = bs(response.content, 'html.parser')\n",
    "main_content = soup.find(\"ul\", id=\"menu-categories-1\")"
   ]
  },
  {
   "cell_type": "code",
   "execution_count": 15,
   "metadata": {},
   "outputs": [],
   "source": [
    "meroshopping_links = []\n",
    "anchor = main_content.find_all(\"a\",href= True)"
   ]
  },
  {
   "cell_type": "code",
   "execution_count": 19,
   "metadata": {},
   "outputs": [
    {
     "data": {
      "text/plain": [
       "121"
      ]
     },
     "execution_count": 19,
     "metadata": {},
     "output_type": "execute_result"
    }
   ],
   "source": [
    "len(meroshopping_links)"
   ]
  },
  {
   "cell_type": "code",
   "execution_count": 16,
   "metadata": {},
   "outputs": [],
   "source": [
    "for a in anchor:\n",
    "    meroshopping_links.append(a[\"href\"])"
   ]
  },
  {
   "cell_type": "code",
   "execution_count": 17,
   "metadata": {},
   "outputs": [
    {
     "data": {
      "text/plain": [
       "71"
      ]
     },
     "execution_count": 17,
     "metadata": {},
     "output_type": "execute_result"
    }
   ],
   "source": [
    "f = open('meroshopping.csv','w')\n",
    "writer = csv.writer(f)\n",
    "header = ('catagory','sub-catagory','name','marked_price','discounted_price','img_link','src')\n",
    "writer.writerow(header)"
   ]
  },
  {
   "cell_type": "code",
   "execution_count": 34,
   "metadata": {},
   "outputs": [],
   "source": [
    "with open('meroshopping.csv','w') as f:\n",
    "    writer = csv.writer(f)\n",
    "    header = ('catagory','sub-catagory','name','marked_price','discounted_price','img_link','src')\n",
    "    writer.writerow(header)\n",
    "\n",
    "    for link in meroshopping_links:\n",
    "            response = requests.get(link)\n",
    "            soup = bs(response.content,'html.parser')\n",
    "            product_wrapper = soup.find_all(\"div\",class_=\"product-wrapper\")\n",
    "            catagory = soup.find(\"a\",class_ =\"breadcrumb-link breadcrumb-link-last\").text\n",
    "            src = link\n",
    "            for product in product_wrapper:\n",
    "                name = product.find(\"h3\",class_ = \"wd-entities-title\").text\n",
    "                img_src = product.img[\"src\"]\n",
    "                price = product.find(\"span\",class_ =\"price\")\n",
    "                \n",
    "                sub_catagory = product.find(\"div\",class_=\"wd-product-cats\").text\n",
    "                try:\n",
    "                    marked_price = price.bdi.text\n",
    "                except:\n",
    "                    marked_price = None\n",
    "                try:\n",
    "                    discouted_price = price.ins.text\n",
    "                    \n",
    "                except:\n",
    "                    discouted_price = None\n",
    "                \n",
    "                row = (catagory,sub_catagory,name,marked_price,discouted_price,img_src,src)\n",
    "                writer.writerow(row)\n",
    "   \n",
    "                    \n",
    "        \n",
    "\n",
    "                \n",
    "            \n",
    "\n",
    "        "
   ]
  },
  {
   "cell_type": "code",
   "execution_count": 30,
   "metadata": {},
   "outputs": [
    {
     "name": "stdout",
     "output_type": "stream",
     "text": [
      "<Response [200]>\n",
      "<Response [200]>\n",
      "<Response [200]>\n",
      "<Response [200]>\n",
      "<Response [200]>\n",
      "<Response [200]>\n",
      "<Response [200]>\n",
      "<Response [200]>\n",
      "<Response [200]>\n",
      "<Response [200]>\n",
      "<Response [200]>\n",
      "<Response [200]>\n",
      "<Response [200]>\n",
      "<Response [200]>\n",
      "<Response [200]>\n",
      "<Response [200]>\n",
      "<Response [200]>\n",
      "<Response [200]>\n",
      "<Response [200]>\n",
      "<Response [200]>\n",
      "<Response [200]>\n",
      "<Response [200]>\n",
      "<Response [200]>\n",
      "<Response [200]>\n",
      "<Response [200]>\n",
      "<Response [200]>\n",
      "<Response [200]>\n"
     ]
    },
    {
     "ename": "KeyboardInterrupt",
     "evalue": "",
     "output_type": "error",
     "traceback": [
      "\u001b[0;31m---------------------------------------------------------------------------\u001b[0m",
      "\u001b[0;31mKeyboardInterrupt\u001b[0m                         Traceback (most recent call last)",
      "\u001b[1;32m/home/dell/web_scraping/1M_data_folder/muncha.ipynb Cell 17'\u001b[0m in \u001b[0;36m<cell line: 1>\u001b[0;34m()\u001b[0m\n\u001b[1;32m      <a href='vscode-notebook-cell:/home/dell/web_scraping/1M_data_folder/muncha.ipynb#ch0000018?line=0'>1</a>\u001b[0m \u001b[39mfor\u001b[39;00m link \u001b[39min\u001b[39;00m meroshopping_links:\n\u001b[0;32m----> <a href='vscode-notebook-cell:/home/dell/web_scraping/1M_data_folder/muncha.ipynb#ch0000018?line=1'>2</a>\u001b[0m     response \u001b[39m=\u001b[39m requests\u001b[39m.\u001b[39;49mget(link)\n\u001b[1;32m      <a href='vscode-notebook-cell:/home/dell/web_scraping/1M_data_folder/muncha.ipynb#ch0000018?line=2'>3</a>\u001b[0m     \u001b[39mprint\u001b[39m(response)\n",
      "File \u001b[0;32m/usr/lib/python3/dist-packages/requests/api.py:75\u001b[0m, in \u001b[0;36mget\u001b[0;34m(url, params, **kwargs)\u001b[0m\n\u001b[1;32m     <a href='file:///usr/lib/python3/dist-packages/requests/api.py?line=63'>64</a>\u001b[0m \u001b[39mr\u001b[39m\u001b[39m\"\"\"Sends a GET request.\u001b[39;00m\n\u001b[1;32m     <a href='file:///usr/lib/python3/dist-packages/requests/api.py?line=64'>65</a>\u001b[0m \n\u001b[1;32m     <a href='file:///usr/lib/python3/dist-packages/requests/api.py?line=65'>66</a>\u001b[0m \u001b[39m:param url: URL for the new :class:`Request` object.\u001b[39;00m\n\u001b[0;32m   (...)\u001b[0m\n\u001b[1;32m     <a href='file:///usr/lib/python3/dist-packages/requests/api.py?line=70'>71</a>\u001b[0m \u001b[39m:rtype: requests.Response\u001b[39;00m\n\u001b[1;32m     <a href='file:///usr/lib/python3/dist-packages/requests/api.py?line=71'>72</a>\u001b[0m \u001b[39m\"\"\"\u001b[39;00m\n\u001b[1;32m     <a href='file:///usr/lib/python3/dist-packages/requests/api.py?line=73'>74</a>\u001b[0m kwargs\u001b[39m.\u001b[39msetdefault(\u001b[39m'\u001b[39m\u001b[39mallow_redirects\u001b[39m\u001b[39m'\u001b[39m, \u001b[39mTrue\u001b[39;00m)\n\u001b[0;32m---> <a href='file:///usr/lib/python3/dist-packages/requests/api.py?line=74'>75</a>\u001b[0m \u001b[39mreturn\u001b[39;00m request(\u001b[39m'\u001b[39;49m\u001b[39mget\u001b[39;49m\u001b[39m'\u001b[39;49m, url, params\u001b[39m=\u001b[39;49mparams, \u001b[39m*\u001b[39;49m\u001b[39m*\u001b[39;49mkwargs)\n",
      "File \u001b[0;32m/usr/lib/python3/dist-packages/requests/api.py:60\u001b[0m, in \u001b[0;36mrequest\u001b[0;34m(method, url, **kwargs)\u001b[0m\n\u001b[1;32m     <a href='file:///usr/lib/python3/dist-packages/requests/api.py?line=55'>56</a>\u001b[0m \u001b[39m# By using the 'with' statement we are sure the session is closed, thus we\u001b[39;00m\n\u001b[1;32m     <a href='file:///usr/lib/python3/dist-packages/requests/api.py?line=56'>57</a>\u001b[0m \u001b[39m# avoid leaving sockets open which can trigger a ResourceWarning in some\u001b[39;00m\n\u001b[1;32m     <a href='file:///usr/lib/python3/dist-packages/requests/api.py?line=57'>58</a>\u001b[0m \u001b[39m# cases, and look like a memory leak in others.\u001b[39;00m\n\u001b[1;32m     <a href='file:///usr/lib/python3/dist-packages/requests/api.py?line=58'>59</a>\u001b[0m \u001b[39mwith\u001b[39;00m sessions\u001b[39m.\u001b[39mSession() \u001b[39mas\u001b[39;00m session:\n\u001b[0;32m---> <a href='file:///usr/lib/python3/dist-packages/requests/api.py?line=59'>60</a>\u001b[0m     \u001b[39mreturn\u001b[39;00m session\u001b[39m.\u001b[39;49mrequest(method\u001b[39m=\u001b[39;49mmethod, url\u001b[39m=\u001b[39;49murl, \u001b[39m*\u001b[39;49m\u001b[39m*\u001b[39;49mkwargs)\n",
      "File \u001b[0;32m/usr/lib/python3/dist-packages/requests/sessions.py:533\u001b[0m, in \u001b[0;36mSession.request\u001b[0;34m(self, method, url, params, data, headers, cookies, files, auth, timeout, allow_redirects, proxies, hooks, stream, verify, cert, json)\u001b[0m\n\u001b[1;32m    <a href='file:///usr/lib/python3/dist-packages/requests/sessions.py?line=527'>528</a>\u001b[0m send_kwargs \u001b[39m=\u001b[39m {\n\u001b[1;32m    <a href='file:///usr/lib/python3/dist-packages/requests/sessions.py?line=528'>529</a>\u001b[0m     \u001b[39m'\u001b[39m\u001b[39mtimeout\u001b[39m\u001b[39m'\u001b[39m: timeout,\n\u001b[1;32m    <a href='file:///usr/lib/python3/dist-packages/requests/sessions.py?line=529'>530</a>\u001b[0m     \u001b[39m'\u001b[39m\u001b[39mallow_redirects\u001b[39m\u001b[39m'\u001b[39m: allow_redirects,\n\u001b[1;32m    <a href='file:///usr/lib/python3/dist-packages/requests/sessions.py?line=530'>531</a>\u001b[0m }\n\u001b[1;32m    <a href='file:///usr/lib/python3/dist-packages/requests/sessions.py?line=531'>532</a>\u001b[0m send_kwargs\u001b[39m.\u001b[39mupdate(settings)\n\u001b[0;32m--> <a href='file:///usr/lib/python3/dist-packages/requests/sessions.py?line=532'>533</a>\u001b[0m resp \u001b[39m=\u001b[39m \u001b[39mself\u001b[39;49m\u001b[39m.\u001b[39;49msend(prep, \u001b[39m*\u001b[39;49m\u001b[39m*\u001b[39;49msend_kwargs)\n\u001b[1;32m    <a href='file:///usr/lib/python3/dist-packages/requests/sessions.py?line=534'>535</a>\u001b[0m \u001b[39mreturn\u001b[39;00m resp\n",
      "File \u001b[0;32m/usr/lib/python3/dist-packages/requests/sessions.py:646\u001b[0m, in \u001b[0;36mSession.send\u001b[0;34m(self, request, **kwargs)\u001b[0m\n\u001b[1;32m    <a href='file:///usr/lib/python3/dist-packages/requests/sessions.py?line=642'>643</a>\u001b[0m start \u001b[39m=\u001b[39m preferred_clock()\n\u001b[1;32m    <a href='file:///usr/lib/python3/dist-packages/requests/sessions.py?line=644'>645</a>\u001b[0m \u001b[39m# Send the request\u001b[39;00m\n\u001b[0;32m--> <a href='file:///usr/lib/python3/dist-packages/requests/sessions.py?line=645'>646</a>\u001b[0m r \u001b[39m=\u001b[39m adapter\u001b[39m.\u001b[39;49msend(request, \u001b[39m*\u001b[39;49m\u001b[39m*\u001b[39;49mkwargs)\n\u001b[1;32m    <a href='file:///usr/lib/python3/dist-packages/requests/sessions.py?line=647'>648</a>\u001b[0m \u001b[39m# Total elapsed time of the request (approximately)\u001b[39;00m\n\u001b[1;32m    <a href='file:///usr/lib/python3/dist-packages/requests/sessions.py?line=648'>649</a>\u001b[0m elapsed \u001b[39m=\u001b[39m preferred_clock() \u001b[39m-\u001b[39m start\n",
      "File \u001b[0;32m/usr/lib/python3/dist-packages/requests/adapters.py:439\u001b[0m, in \u001b[0;36mHTTPAdapter.send\u001b[0;34m(self, request, stream, timeout, verify, cert, proxies)\u001b[0m\n\u001b[1;32m    <a href='file:///usr/lib/python3/dist-packages/requests/adapters.py?line=436'>437</a>\u001b[0m \u001b[39mtry\u001b[39;00m:\n\u001b[1;32m    <a href='file:///usr/lib/python3/dist-packages/requests/adapters.py?line=437'>438</a>\u001b[0m     \u001b[39mif\u001b[39;00m \u001b[39mnot\u001b[39;00m chunked:\n\u001b[0;32m--> <a href='file:///usr/lib/python3/dist-packages/requests/adapters.py?line=438'>439</a>\u001b[0m         resp \u001b[39m=\u001b[39m conn\u001b[39m.\u001b[39;49murlopen(\n\u001b[1;32m    <a href='file:///usr/lib/python3/dist-packages/requests/adapters.py?line=439'>440</a>\u001b[0m             method\u001b[39m=\u001b[39;49mrequest\u001b[39m.\u001b[39;49mmethod,\n\u001b[1;32m    <a href='file:///usr/lib/python3/dist-packages/requests/adapters.py?line=440'>441</a>\u001b[0m             url\u001b[39m=\u001b[39;49murl,\n\u001b[1;32m    <a href='file:///usr/lib/python3/dist-packages/requests/adapters.py?line=441'>442</a>\u001b[0m             body\u001b[39m=\u001b[39;49mrequest\u001b[39m.\u001b[39;49mbody,\n\u001b[1;32m    <a href='file:///usr/lib/python3/dist-packages/requests/adapters.py?line=442'>443</a>\u001b[0m             headers\u001b[39m=\u001b[39;49mrequest\u001b[39m.\u001b[39;49mheaders,\n\u001b[1;32m    <a href='file:///usr/lib/python3/dist-packages/requests/adapters.py?line=443'>444</a>\u001b[0m             redirect\u001b[39m=\u001b[39;49m\u001b[39mFalse\u001b[39;49;00m,\n\u001b[1;32m    <a href='file:///usr/lib/python3/dist-packages/requests/adapters.py?line=444'>445</a>\u001b[0m             assert_same_host\u001b[39m=\u001b[39;49m\u001b[39mFalse\u001b[39;49;00m,\n\u001b[1;32m    <a href='file:///usr/lib/python3/dist-packages/requests/adapters.py?line=445'>446</a>\u001b[0m             preload_content\u001b[39m=\u001b[39;49m\u001b[39mFalse\u001b[39;49;00m,\n\u001b[1;32m    <a href='file:///usr/lib/python3/dist-packages/requests/adapters.py?line=446'>447</a>\u001b[0m             decode_content\u001b[39m=\u001b[39;49m\u001b[39mFalse\u001b[39;49;00m,\n\u001b[1;32m    <a href='file:///usr/lib/python3/dist-packages/requests/adapters.py?line=447'>448</a>\u001b[0m             retries\u001b[39m=\u001b[39;49m\u001b[39mself\u001b[39;49m\u001b[39m.\u001b[39;49mmax_retries,\n\u001b[1;32m    <a href='file:///usr/lib/python3/dist-packages/requests/adapters.py?line=448'>449</a>\u001b[0m             timeout\u001b[39m=\u001b[39;49mtimeout\n\u001b[1;32m    <a href='file:///usr/lib/python3/dist-packages/requests/adapters.py?line=449'>450</a>\u001b[0m         )\n\u001b[1;32m    <a href='file:///usr/lib/python3/dist-packages/requests/adapters.py?line=451'>452</a>\u001b[0m     \u001b[39m# Send the request.\u001b[39;00m\n\u001b[1;32m    <a href='file:///usr/lib/python3/dist-packages/requests/adapters.py?line=452'>453</a>\u001b[0m     \u001b[39melse\u001b[39;00m:\n\u001b[1;32m    <a href='file:///usr/lib/python3/dist-packages/requests/adapters.py?line=453'>454</a>\u001b[0m         \u001b[39mif\u001b[39;00m \u001b[39mhasattr\u001b[39m(conn, \u001b[39m'\u001b[39m\u001b[39mproxy_pool\u001b[39m\u001b[39m'\u001b[39m):\n",
      "File \u001b[0;32m/usr/lib/python3/dist-packages/urllib3/connectionpool.py:665\u001b[0m, in \u001b[0;36mHTTPConnectionPool.urlopen\u001b[0;34m(self, method, url, body, headers, retries, redirect, assert_same_host, timeout, pool_timeout, release_conn, chunked, body_pos, **response_kw)\u001b[0m\n\u001b[1;32m    <a href='file:///usr/lib/python3/dist-packages/urllib3/connectionpool.py?line=661'>662</a>\u001b[0m     \u001b[39mself\u001b[39m\u001b[39m.\u001b[39m_prepare_proxy(conn)\n\u001b[1;32m    <a href='file:///usr/lib/python3/dist-packages/urllib3/connectionpool.py?line=663'>664</a>\u001b[0m \u001b[39m# Make the request on the httplib connection object.\u001b[39;00m\n\u001b[0;32m--> <a href='file:///usr/lib/python3/dist-packages/urllib3/connectionpool.py?line=664'>665</a>\u001b[0m httplib_response \u001b[39m=\u001b[39m \u001b[39mself\u001b[39;49m\u001b[39m.\u001b[39;49m_make_request(\n\u001b[1;32m    <a href='file:///usr/lib/python3/dist-packages/urllib3/connectionpool.py?line=665'>666</a>\u001b[0m     conn,\n\u001b[1;32m    <a href='file:///usr/lib/python3/dist-packages/urllib3/connectionpool.py?line=666'>667</a>\u001b[0m     method,\n\u001b[1;32m    <a href='file:///usr/lib/python3/dist-packages/urllib3/connectionpool.py?line=667'>668</a>\u001b[0m     url,\n\u001b[1;32m    <a href='file:///usr/lib/python3/dist-packages/urllib3/connectionpool.py?line=668'>669</a>\u001b[0m     timeout\u001b[39m=\u001b[39;49mtimeout_obj,\n\u001b[1;32m    <a href='file:///usr/lib/python3/dist-packages/urllib3/connectionpool.py?line=669'>670</a>\u001b[0m     body\u001b[39m=\u001b[39;49mbody,\n\u001b[1;32m    <a href='file:///usr/lib/python3/dist-packages/urllib3/connectionpool.py?line=670'>671</a>\u001b[0m     headers\u001b[39m=\u001b[39;49mheaders,\n\u001b[1;32m    <a href='file:///usr/lib/python3/dist-packages/urllib3/connectionpool.py?line=671'>672</a>\u001b[0m     chunked\u001b[39m=\u001b[39;49mchunked,\n\u001b[1;32m    <a href='file:///usr/lib/python3/dist-packages/urllib3/connectionpool.py?line=672'>673</a>\u001b[0m )\n\u001b[1;32m    <a href='file:///usr/lib/python3/dist-packages/urllib3/connectionpool.py?line=674'>675</a>\u001b[0m \u001b[39m# If we're going to release the connection in ``finally:``, then\u001b[39;00m\n\u001b[1;32m    <a href='file:///usr/lib/python3/dist-packages/urllib3/connectionpool.py?line=675'>676</a>\u001b[0m \u001b[39m# the response doesn't need to know about the connection. Otherwise\u001b[39;00m\n\u001b[1;32m    <a href='file:///usr/lib/python3/dist-packages/urllib3/connectionpool.py?line=676'>677</a>\u001b[0m \u001b[39m# it will also try to release it and we'll have a double-release\u001b[39;00m\n\u001b[1;32m    <a href='file:///usr/lib/python3/dist-packages/urllib3/connectionpool.py?line=677'>678</a>\u001b[0m \u001b[39m# mess.\u001b[39;00m\n\u001b[1;32m    <a href='file:///usr/lib/python3/dist-packages/urllib3/connectionpool.py?line=678'>679</a>\u001b[0m response_conn \u001b[39m=\u001b[39m conn \u001b[39mif\u001b[39;00m \u001b[39mnot\u001b[39;00m release_conn \u001b[39melse\u001b[39;00m \u001b[39mNone\u001b[39;00m\n",
      "File \u001b[0;32m/usr/lib/python3/dist-packages/urllib3/connectionpool.py:376\u001b[0m, in \u001b[0;36mHTTPConnectionPool._make_request\u001b[0;34m(self, conn, method, url, timeout, chunked, **httplib_request_kw)\u001b[0m\n\u001b[1;32m    <a href='file:///usr/lib/python3/dist-packages/urllib3/connectionpool.py?line=373'>374</a>\u001b[0m \u001b[39m# Trigger any extra validation we need to do.\u001b[39;00m\n\u001b[1;32m    <a href='file:///usr/lib/python3/dist-packages/urllib3/connectionpool.py?line=374'>375</a>\u001b[0m \u001b[39mtry\u001b[39;00m:\n\u001b[0;32m--> <a href='file:///usr/lib/python3/dist-packages/urllib3/connectionpool.py?line=375'>376</a>\u001b[0m     \u001b[39mself\u001b[39;49m\u001b[39m.\u001b[39;49m_validate_conn(conn)\n\u001b[1;32m    <a href='file:///usr/lib/python3/dist-packages/urllib3/connectionpool.py?line=376'>377</a>\u001b[0m \u001b[39mexcept\u001b[39;00m (SocketTimeout, BaseSSLError) \u001b[39mas\u001b[39;00m e:\n\u001b[1;32m    <a href='file:///usr/lib/python3/dist-packages/urllib3/connectionpool.py?line=377'>378</a>\u001b[0m     \u001b[39m# Py2 raises this as a BaseSSLError, Py3 raises it as socket timeout.\u001b[39;00m\n\u001b[1;32m    <a href='file:///usr/lib/python3/dist-packages/urllib3/connectionpool.py?line=378'>379</a>\u001b[0m     \u001b[39mself\u001b[39m\u001b[39m.\u001b[39m_raise_timeout(err\u001b[39m=\u001b[39me, url\u001b[39m=\u001b[39murl, timeout_value\u001b[39m=\u001b[39mconn\u001b[39m.\u001b[39mtimeout)\n",
      "File \u001b[0;32m/usr/lib/python3/dist-packages/urllib3/connectionpool.py:996\u001b[0m, in \u001b[0;36mHTTPSConnectionPool._validate_conn\u001b[0;34m(self, conn)\u001b[0m\n\u001b[1;32m    <a href='file:///usr/lib/python3/dist-packages/urllib3/connectionpool.py?line=993'>994</a>\u001b[0m \u001b[39m# Force connect early to allow us to validate the connection.\u001b[39;00m\n\u001b[1;32m    <a href='file:///usr/lib/python3/dist-packages/urllib3/connectionpool.py?line=994'>995</a>\u001b[0m \u001b[39mif\u001b[39;00m \u001b[39mnot\u001b[39;00m \u001b[39mgetattr\u001b[39m(conn, \u001b[39m\"\u001b[39m\u001b[39msock\u001b[39m\u001b[39m\"\u001b[39m, \u001b[39mNone\u001b[39;00m):  \u001b[39m# AppEngine might not have  `.sock`\u001b[39;00m\n\u001b[0;32m--> <a href='file:///usr/lib/python3/dist-packages/urllib3/connectionpool.py?line=995'>996</a>\u001b[0m     conn\u001b[39m.\u001b[39;49mconnect()\n\u001b[1;32m    <a href='file:///usr/lib/python3/dist-packages/urllib3/connectionpool.py?line=997'>998</a>\u001b[0m \u001b[39mif\u001b[39;00m \u001b[39mnot\u001b[39;00m conn\u001b[39m.\u001b[39mis_verified:\n\u001b[1;32m    <a href='file:///usr/lib/python3/dist-packages/urllib3/connectionpool.py?line=998'>999</a>\u001b[0m     warnings\u001b[39m.\u001b[39mwarn(\n\u001b[1;32m   <a href='file:///usr/lib/python3/dist-packages/urllib3/connectionpool.py?line=999'>1000</a>\u001b[0m         (\n\u001b[1;32m   <a href='file:///usr/lib/python3/dist-packages/urllib3/connectionpool.py?line=1000'>1001</a>\u001b[0m             \u001b[39m\"\u001b[39m\u001b[39mUnverified HTTPS request is being made to host \u001b[39m\u001b[39m'\u001b[39m\u001b[39m%s\u001b[39;00m\u001b[39m'\u001b[39m\u001b[39m. \u001b[39m\u001b[39m\"\u001b[39m\n\u001b[0;32m   (...)\u001b[0m\n\u001b[1;32m   <a href='file:///usr/lib/python3/dist-packages/urllib3/connectionpool.py?line=1005'>1006</a>\u001b[0m         InsecureRequestWarning,\n\u001b[1;32m   <a href='file:///usr/lib/python3/dist-packages/urllib3/connectionpool.py?line=1006'>1007</a>\u001b[0m     )\n",
      "File \u001b[0;32m/usr/lib/python3/dist-packages/urllib3/connection.py:366\u001b[0m, in \u001b[0;36mVerifiedHTTPSConnection.connect\u001b[0;34m(self)\u001b[0m\n\u001b[1;32m    <a href='file:///usr/lib/python3/dist-packages/urllib3/connection.py?line=357'>358</a>\u001b[0m \u001b[39mif\u001b[39;00m (\n\u001b[1;32m    <a href='file:///usr/lib/python3/dist-packages/urllib3/connection.py?line=358'>359</a>\u001b[0m     \u001b[39mnot\u001b[39;00m \u001b[39mself\u001b[39m\u001b[39m.\u001b[39mca_certs\n\u001b[1;32m    <a href='file:///usr/lib/python3/dist-packages/urllib3/connection.py?line=359'>360</a>\u001b[0m     \u001b[39mand\u001b[39;00m \u001b[39mnot\u001b[39;00m \u001b[39mself\u001b[39m\u001b[39m.\u001b[39mca_cert_dir\n\u001b[1;32m    <a href='file:///usr/lib/python3/dist-packages/urllib3/connection.py?line=360'>361</a>\u001b[0m     \u001b[39mand\u001b[39;00m default_ssl_context\n\u001b[1;32m    <a href='file:///usr/lib/python3/dist-packages/urllib3/connection.py?line=361'>362</a>\u001b[0m     \u001b[39mand\u001b[39;00m \u001b[39mhasattr\u001b[39m(context, \u001b[39m\"\u001b[39m\u001b[39mload_default_certs\u001b[39m\u001b[39m\"\u001b[39m)\n\u001b[1;32m    <a href='file:///usr/lib/python3/dist-packages/urllib3/connection.py?line=362'>363</a>\u001b[0m ):\n\u001b[1;32m    <a href='file:///usr/lib/python3/dist-packages/urllib3/connection.py?line=363'>364</a>\u001b[0m     context\u001b[39m.\u001b[39mload_default_certs()\n\u001b[0;32m--> <a href='file:///usr/lib/python3/dist-packages/urllib3/connection.py?line=365'>366</a>\u001b[0m \u001b[39mself\u001b[39m\u001b[39m.\u001b[39msock \u001b[39m=\u001b[39m ssl_wrap_socket(\n\u001b[1;32m    <a href='file:///usr/lib/python3/dist-packages/urllib3/connection.py?line=366'>367</a>\u001b[0m     sock\u001b[39m=\u001b[39;49mconn,\n\u001b[1;32m    <a href='file:///usr/lib/python3/dist-packages/urllib3/connection.py?line=367'>368</a>\u001b[0m     keyfile\u001b[39m=\u001b[39;49m\u001b[39mself\u001b[39;49m\u001b[39m.\u001b[39;49mkey_file,\n\u001b[1;32m    <a href='file:///usr/lib/python3/dist-packages/urllib3/connection.py?line=368'>369</a>\u001b[0m     certfile\u001b[39m=\u001b[39;49m\u001b[39mself\u001b[39;49m\u001b[39m.\u001b[39;49mcert_file,\n\u001b[1;32m    <a href='file:///usr/lib/python3/dist-packages/urllib3/connection.py?line=369'>370</a>\u001b[0m     key_password\u001b[39m=\u001b[39;49m\u001b[39mself\u001b[39;49m\u001b[39m.\u001b[39;49mkey_password,\n\u001b[1;32m    <a href='file:///usr/lib/python3/dist-packages/urllib3/connection.py?line=370'>371</a>\u001b[0m     ca_certs\u001b[39m=\u001b[39;49m\u001b[39mself\u001b[39;49m\u001b[39m.\u001b[39;49mca_certs,\n\u001b[1;32m    <a href='file:///usr/lib/python3/dist-packages/urllib3/connection.py?line=371'>372</a>\u001b[0m     ca_cert_dir\u001b[39m=\u001b[39;49m\u001b[39mself\u001b[39;49m\u001b[39m.\u001b[39;49mca_cert_dir,\n\u001b[1;32m    <a href='file:///usr/lib/python3/dist-packages/urllib3/connection.py?line=372'>373</a>\u001b[0m     server_hostname\u001b[39m=\u001b[39;49mserver_hostname,\n\u001b[1;32m    <a href='file:///usr/lib/python3/dist-packages/urllib3/connection.py?line=373'>374</a>\u001b[0m     ssl_context\u001b[39m=\u001b[39;49mcontext,\n\u001b[1;32m    <a href='file:///usr/lib/python3/dist-packages/urllib3/connection.py?line=374'>375</a>\u001b[0m )\n\u001b[1;32m    <a href='file:///usr/lib/python3/dist-packages/urllib3/connection.py?line=376'>377</a>\u001b[0m \u001b[39mif\u001b[39;00m \u001b[39mself\u001b[39m\u001b[39m.\u001b[39massert_fingerprint:\n\u001b[1;32m    <a href='file:///usr/lib/python3/dist-packages/urllib3/connection.py?line=377'>378</a>\u001b[0m     assert_fingerprint(\n\u001b[1;32m    <a href='file:///usr/lib/python3/dist-packages/urllib3/connection.py?line=378'>379</a>\u001b[0m         \u001b[39mself\u001b[39m\u001b[39m.\u001b[39msock\u001b[39m.\u001b[39mgetpeercert(binary_form\u001b[39m=\u001b[39m\u001b[39mTrue\u001b[39;00m), \u001b[39mself\u001b[39m\u001b[39m.\u001b[39massert_fingerprint\n\u001b[1;32m    <a href='file:///usr/lib/python3/dist-packages/urllib3/connection.py?line=379'>380</a>\u001b[0m     )\n",
      "File \u001b[0;32m/usr/lib/python3/dist-packages/urllib3/util/ssl_.py:370\u001b[0m, in \u001b[0;36mssl_wrap_socket\u001b[0;34m(sock, keyfile, certfile, cert_reqs, ca_certs, server_hostname, ssl_version, ciphers, ssl_context, ca_cert_dir, key_password)\u001b[0m\n\u001b[1;32m    <a href='file:///usr/lib/python3/dist-packages/urllib3/util/ssl_.py?line=365'>366</a>\u001b[0m \u001b[39mif\u001b[39;00m (\n\u001b[1;32m    <a href='file:///usr/lib/python3/dist-packages/urllib3/util/ssl_.py?line=366'>367</a>\u001b[0m     server_hostname \u001b[39mis\u001b[39;00m \u001b[39mnot\u001b[39;00m \u001b[39mNone\u001b[39;00m \u001b[39mand\u001b[39;00m \u001b[39mnot\u001b[39;00m is_ipaddress(server_hostname)\n\u001b[1;32m    <a href='file:///usr/lib/python3/dist-packages/urllib3/util/ssl_.py?line=367'>368</a>\u001b[0m ) \u001b[39mor\u001b[39;00m IS_SECURETRANSPORT:\n\u001b[1;32m    <a href='file:///usr/lib/python3/dist-packages/urllib3/util/ssl_.py?line=368'>369</a>\u001b[0m     \u001b[39mif\u001b[39;00m HAS_SNI \u001b[39mand\u001b[39;00m server_hostname \u001b[39mis\u001b[39;00m \u001b[39mnot\u001b[39;00m \u001b[39mNone\u001b[39;00m:\n\u001b[0;32m--> <a href='file:///usr/lib/python3/dist-packages/urllib3/util/ssl_.py?line=369'>370</a>\u001b[0m         \u001b[39mreturn\u001b[39;00m context\u001b[39m.\u001b[39;49mwrap_socket(sock, server_hostname\u001b[39m=\u001b[39;49mserver_hostname)\n\u001b[1;32m    <a href='file:///usr/lib/python3/dist-packages/urllib3/util/ssl_.py?line=371'>372</a>\u001b[0m     warnings\u001b[39m.\u001b[39mwarn(\n\u001b[1;32m    <a href='file:///usr/lib/python3/dist-packages/urllib3/util/ssl_.py?line=372'>373</a>\u001b[0m         \u001b[39m\"\u001b[39m\u001b[39mAn HTTPS request has been made, but the SNI (Server Name \u001b[39m\u001b[39m\"\u001b[39m\n\u001b[1;32m    <a href='file:///usr/lib/python3/dist-packages/urllib3/util/ssl_.py?line=373'>374</a>\u001b[0m         \u001b[39m\"\u001b[39m\u001b[39mIndication) extension to TLS is not available on this platform. \u001b[39m\u001b[39m\"\u001b[39m\n\u001b[0;32m   (...)\u001b[0m\n\u001b[1;32m    <a href='file:///usr/lib/python3/dist-packages/urllib3/util/ssl_.py?line=379'>380</a>\u001b[0m         SNIMissingWarning,\n\u001b[1;32m    <a href='file:///usr/lib/python3/dist-packages/urllib3/util/ssl_.py?line=380'>381</a>\u001b[0m     )\n\u001b[1;32m    <a href='file:///usr/lib/python3/dist-packages/urllib3/util/ssl_.py?line=382'>383</a>\u001b[0m \u001b[39mreturn\u001b[39;00m context\u001b[39m.\u001b[39mwrap_socket(sock)\n",
      "File \u001b[0;32m/usr/lib/python3.8/ssl.py:500\u001b[0m, in \u001b[0;36mSSLContext.wrap_socket\u001b[0;34m(self, sock, server_side, do_handshake_on_connect, suppress_ragged_eofs, server_hostname, session)\u001b[0m\n\u001b[1;32m    <a href='file:///usr/lib/python3.8/ssl.py?line=493'>494</a>\u001b[0m \u001b[39mdef\u001b[39;00m \u001b[39mwrap_socket\u001b[39m(\u001b[39mself\u001b[39m, sock, server_side\u001b[39m=\u001b[39m\u001b[39mFalse\u001b[39;00m,\n\u001b[1;32m    <a href='file:///usr/lib/python3.8/ssl.py?line=494'>495</a>\u001b[0m                 do_handshake_on_connect\u001b[39m=\u001b[39m\u001b[39mTrue\u001b[39;00m,\n\u001b[1;32m    <a href='file:///usr/lib/python3.8/ssl.py?line=495'>496</a>\u001b[0m                 suppress_ragged_eofs\u001b[39m=\u001b[39m\u001b[39mTrue\u001b[39;00m,\n\u001b[1;32m    <a href='file:///usr/lib/python3.8/ssl.py?line=496'>497</a>\u001b[0m                 server_hostname\u001b[39m=\u001b[39m\u001b[39mNone\u001b[39;00m, session\u001b[39m=\u001b[39m\u001b[39mNone\u001b[39;00m):\n\u001b[1;32m    <a href='file:///usr/lib/python3.8/ssl.py?line=497'>498</a>\u001b[0m     \u001b[39m# SSLSocket class handles server_hostname encoding before it calls\u001b[39;00m\n\u001b[1;32m    <a href='file:///usr/lib/python3.8/ssl.py?line=498'>499</a>\u001b[0m     \u001b[39m# ctx._wrap_socket()\u001b[39;00m\n\u001b[0;32m--> <a href='file:///usr/lib/python3.8/ssl.py?line=499'>500</a>\u001b[0m     \u001b[39mreturn\u001b[39;00m \u001b[39mself\u001b[39;49m\u001b[39m.\u001b[39;49msslsocket_class\u001b[39m.\u001b[39;49m_create(\n\u001b[1;32m    <a href='file:///usr/lib/python3.8/ssl.py?line=500'>501</a>\u001b[0m         sock\u001b[39m=\u001b[39;49msock,\n\u001b[1;32m    <a href='file:///usr/lib/python3.8/ssl.py?line=501'>502</a>\u001b[0m         server_side\u001b[39m=\u001b[39;49mserver_side,\n\u001b[1;32m    <a href='file:///usr/lib/python3.8/ssl.py?line=502'>503</a>\u001b[0m         do_handshake_on_connect\u001b[39m=\u001b[39;49mdo_handshake_on_connect,\n\u001b[1;32m    <a href='file:///usr/lib/python3.8/ssl.py?line=503'>504</a>\u001b[0m         suppress_ragged_eofs\u001b[39m=\u001b[39;49msuppress_ragged_eofs,\n\u001b[1;32m    <a href='file:///usr/lib/python3.8/ssl.py?line=504'>505</a>\u001b[0m         server_hostname\u001b[39m=\u001b[39;49mserver_hostname,\n\u001b[1;32m    <a href='file:///usr/lib/python3.8/ssl.py?line=505'>506</a>\u001b[0m         context\u001b[39m=\u001b[39;49m\u001b[39mself\u001b[39;49m,\n\u001b[1;32m    <a href='file:///usr/lib/python3.8/ssl.py?line=506'>507</a>\u001b[0m         session\u001b[39m=\u001b[39;49msession\n\u001b[1;32m    <a href='file:///usr/lib/python3.8/ssl.py?line=507'>508</a>\u001b[0m     )\n",
      "File \u001b[0;32m/usr/lib/python3.8/ssl.py:1040\u001b[0m, in \u001b[0;36mSSLSocket._create\u001b[0;34m(cls, sock, server_side, do_handshake_on_connect, suppress_ragged_eofs, server_hostname, context, session)\u001b[0m\n\u001b[1;32m   <a href='file:///usr/lib/python3.8/ssl.py?line=1036'>1037</a>\u001b[0m         \u001b[39mif\u001b[39;00m timeout \u001b[39m==\u001b[39m \u001b[39m0.0\u001b[39m:\n\u001b[1;32m   <a href='file:///usr/lib/python3.8/ssl.py?line=1037'>1038</a>\u001b[0m             \u001b[39m# non-blocking\u001b[39;00m\n\u001b[1;32m   <a href='file:///usr/lib/python3.8/ssl.py?line=1038'>1039</a>\u001b[0m             \u001b[39mraise\u001b[39;00m \u001b[39mValueError\u001b[39;00m(\u001b[39m\"\u001b[39m\u001b[39mdo_handshake_on_connect should not be specified for non-blocking sockets\u001b[39m\u001b[39m\"\u001b[39m)\n\u001b[0;32m-> <a href='file:///usr/lib/python3.8/ssl.py?line=1039'>1040</a>\u001b[0m         \u001b[39mself\u001b[39;49m\u001b[39m.\u001b[39;49mdo_handshake()\n\u001b[1;32m   <a href='file:///usr/lib/python3.8/ssl.py?line=1040'>1041</a>\u001b[0m \u001b[39mexcept\u001b[39;00m (\u001b[39mOSError\u001b[39;00m, \u001b[39mValueError\u001b[39;00m):\n\u001b[1;32m   <a href='file:///usr/lib/python3.8/ssl.py?line=1041'>1042</a>\u001b[0m     \u001b[39mself\u001b[39m\u001b[39m.\u001b[39mclose()\n",
      "File \u001b[0;32m/usr/lib/python3.8/ssl.py:1309\u001b[0m, in \u001b[0;36mSSLSocket.do_handshake\u001b[0;34m(self, block)\u001b[0m\n\u001b[1;32m   <a href='file:///usr/lib/python3.8/ssl.py?line=1306'>1307</a>\u001b[0m     \u001b[39mif\u001b[39;00m timeout \u001b[39m==\u001b[39m \u001b[39m0.0\u001b[39m \u001b[39mand\u001b[39;00m block:\n\u001b[1;32m   <a href='file:///usr/lib/python3.8/ssl.py?line=1307'>1308</a>\u001b[0m         \u001b[39mself\u001b[39m\u001b[39m.\u001b[39msettimeout(\u001b[39mNone\u001b[39;00m)\n\u001b[0;32m-> <a href='file:///usr/lib/python3.8/ssl.py?line=1308'>1309</a>\u001b[0m     \u001b[39mself\u001b[39;49m\u001b[39m.\u001b[39;49m_sslobj\u001b[39m.\u001b[39;49mdo_handshake()\n\u001b[1;32m   <a href='file:///usr/lib/python3.8/ssl.py?line=1309'>1310</a>\u001b[0m \u001b[39mfinally\u001b[39;00m:\n\u001b[1;32m   <a href='file:///usr/lib/python3.8/ssl.py?line=1310'>1311</a>\u001b[0m     \u001b[39mself\u001b[39m\u001b[39m.\u001b[39msettimeout(timeout)\n",
      "\u001b[0;31mKeyboardInterrupt\u001b[0m: "
     ]
    }
   ],
   "source": [
    "for link in meroshopping_links:\n",
    "    response = requests.get(link)\n",
    "    print(response)"
   ]
  },
  {
   "cell_type": "code",
   "execution_count": 29,
   "metadata": {},
   "outputs": [
    {
     "name": "stdout",
     "output_type": "stream",
     "text": [
      "('Home', '\\nONEPLUS MOBILES ', 'OnePlus 8T 5G (Lunar Silver And Aquamarine Green)', '₨\\xa078,999.00', None, 'https://meroshoping.com/wp-content/uploads/2022/02/oneplus-8T.jpg', 'https://meroshoping.com/product-category/smartphones/')\n",
      "('Home', '\\nXIAOMI MOBILES ', 'Redmi Note 11 SD 680 Processor 50 MP', '₨\\xa024,999.00', None, 'https://meroshoping.com/wp-content/uploads/2022/02/redmi-note11.jpg', 'https://meroshoping.com/product-category/smartphones/')\n",
      "('Home', '\\nSAMSUNG MOBILES ', 'Samsung Galaxy A72 (8GB/128GB)', '₨\\xa051,999.00', None, 'https://meroshoping.com/wp-content/uploads/2022/02/samsung-a72.jpg', 'https://meroshoping.com/product-category/smartphones/')\n",
      "('Home', '\\nSAMSUNG MOBILES ', 'Samsung S21 Ultra /16GB /512 GB / Snapdragon 888', '₨\\xa0227,999.00', '₨\\xa0214,999.00', 'https://meroshoping.com/wp-content/uploads/2022/02/s21-ultra.jpg', 'https://meroshoping.com/product-category/smartphones/')\n",
      "('Smartphones', '\\nSAMSUNG MOBILES ', 'Samsung Galaxy A72 (8GB/128GB)', '₨\\xa051,999.00', None, 'https://meroshoping.com/wp-content/uploads/2022/02/samsung-a72.jpg', 'https://meroshoping.com/product-category/smartphones/samsung-mobiles/')\n",
      "('Smartphones', '\\nSAMSUNG MOBILES ', 'Samsung S21 Ultra /16GB /512 GB / Snapdragon 888', '₨\\xa0227,999.00', '₨\\xa0214,999.00', 'https://meroshoping.com/wp-content/uploads/2022/02/s21-ultra.jpg', 'https://meroshoping.com/product-category/smartphones/samsung-mobiles/')\n",
      "('Smartphones', '\\nXIAOMI MOBILES ', 'Redmi Note 11 SD 680 Processor 50 MP', '₨\\xa024,999.00', None, 'https://meroshoping.com/wp-content/uploads/2022/02/redmi-note11.jpg', 'https://meroshoping.com/product-category/smartphones/xiaomi-mobiles/')\n",
      "('Smartphones', '\\nONEPLUS MOBILES ', 'OnePlus 8T 5G (Lunar Silver And Aquamarine Green)', '₨\\xa078,999.00', None, 'https://meroshoping.com/wp-content/uploads/2022/02/oneplus-8T.jpg', 'https://meroshoping.com/product-category/smartphones/oneplus-mobiles/')\n",
      "('Home', '\\nAccessories ', 'Digital MP3 Music Player', '₨\\xa0550.00', '₨\\xa0450.00', 'https://meroshoping.com/wp-content/uploads/2022/02/IMG_20220203_153021.jpg', 'https://meroshoping.com/product-category/mobile-accessories/')\n",
      "('Home', '\\nCABLES & CONVERTERS ', 'Dikon 2in1 USB Charger', '₨\\xa0325.00', '₨\\xa0250.00', 'https://meroshoping.com/wp-content/uploads/2022/02/IMG_20220203_161846.jpg', 'https://meroshoping.com/product-category/mobile-accessories/')\n",
      "('Home', '\\nEARPHONES ', 'Dikon Earphone', '₨\\xa0300.00', '₨\\xa0200.00', 'https://meroshoping.com/wp-content/uploads/2022/02/IMG_20220203_162018.jpg', 'https://meroshoping.com/product-category/mobile-accessories/')\n",
      "('Home', '\\nAccessories ', 'Finger Gloves', '₨\\xa0150.00', '₨\\xa075.00', 'https://meroshoping.com/wp-content/uploads/2022/02/IMG_20220203_162213.jpg', 'https://meroshoping.com/product-category/mobile-accessories/')\n",
      "('Home', '\\nAccessories ', 'Finger Gloves', '₨\\xa0150.00', '₨\\xa050.00', 'https://meroshoping.com/wp-content/uploads/2022/02/IMG_20220217_151508.jpg', 'https://meroshoping.com/product-category/mobile-accessories/')\n",
      "('Home', '\\nAccessories ', 'Finger Slips', '₨\\xa0100.00', '₨\\xa075.00', 'https://meroshoping.com/wp-content/uploads/2022/02/IMG_20220203_162143.jpg', 'https://meroshoping.com/product-category/mobile-accessories/')\n",
      "('Home', '\\nCABLES & CONVERTERS ', 'FOCUS F-69 30W CHARGER', None, None, 'https://meroshoping.com/wp-content/uploads/2022/02/IMG_20220203_153859.jpg', 'https://meroshoping.com/product-category/mobile-accessories/')\n",
      "('Home', '\\nAccessories ', 'Gaming Gloves', '₨\\xa0150.00', None, 'https://meroshoping.com/wp-content/uploads/2022/02/IMG_20220203_162238.jpg', 'https://meroshoping.com/product-category/mobile-accessories/')\n",
      "('Home', '\\nWireless Headphone ', 'Gaming Headphone GM-001', '₨\\xa02,000.00', '₨\\xa01,750.00', 'https://meroshoping.com/wp-content/uploads/2022/02/IMG_20220203_152942.jpg', 'https://meroshoping.com/product-category/mobile-accessories/')\n",
      "('Home', '\\nEARPHONES ', 'GH A7 Earphone', '₨\\xa0300.00', '₨\\xa0225.00', 'https://meroshoping.com/wp-content/uploads/2022/02/IMG_20220203_162400.jpg', 'https://meroshoping.com/product-category/mobile-accessories/')\n",
      "('Home', '\\nEARPHONES ', 'Iphone Earphone', '₨\\xa0400.00', '₨\\xa0300.00', 'https://meroshoping.com/wp-content/uploads/2022/02/IMG_20220203_153114.jpg', 'https://meroshoping.com/product-category/mobile-accessories/')\n",
      "('Home', '\\nEARPHONES ', 'Iphone Earphone Best sound Quality', '₨\\xa0550.00', '₨\\xa0400.00', 'https://meroshoping.com/wp-content/uploads/2022/02/IMG_20220203_154126.jpg', 'https://meroshoping.com/product-category/mobile-accessories/')\n",
      "('Mobile Accessories', '\\nSCREEN PROTECTORS ', 'Mobile Protection Glass(Full 11D)', '₨\\xa0150.00', '₨\\xa080.00', 'https://meroshoping.com/wp-content/uploads/2022/02/IMG_20220215_110810.jpg', 'https://meroshoping.com/product-category/mobile-accessories/screen-protectors/')\n",
      "('Mobile Accessories', '\\nSCREEN PROTECTORS ', 'Mobile Protection Glass(Normal)', '₨\\xa0100.00', '₨\\xa050.00', 'https://meroshoping.com/wp-content/uploads/2022/02/IMG_20220215_111008.jpg', 'https://meroshoping.com/product-category/mobile-accessories/screen-protectors/')\n",
      "('Mobile Accessories', '\\nCABLES & CONVERTERS ', 'Dikon 2in1 USB Charger', '₨\\xa0325.00', '₨\\xa0250.00', 'https://meroshoping.com/wp-content/uploads/2022/02/IMG_20220203_161846.jpg', 'https://meroshoping.com/product-category/mobile-accessories/cables-converters/')\n",
      "('Mobile Accessories', '\\nCABLES & CONVERTERS ', 'FOCUS F-69 30W CHARGER', None, None, 'https://meroshoping.com/wp-content/uploads/2022/02/IMG_20220203_153859.jpg', 'https://meroshoping.com/product-category/mobile-accessories/cables-converters/')\n",
      "('Mobile Accessories', '\\nCABLES & CONVERTERS ', 'Keypad Charger', '₨\\xa0100.00', '₨\\xa080.00', 'https://meroshoping.com/wp-content/uploads/2022/02/IMG_20220203_154038_1.jpg', 'https://meroshoping.com/product-category/mobile-accessories/cables-converters/')\n",
      "('Mobile Accessories', '\\nCABLES & CONVERTERS ', 'MI Charger', '₨\\xa0200.00', '₨\\xa0150.00', 'https://meroshoping.com/wp-content/uploads/2022/02/IMG_20220203_161925.jpg', 'https://meroshoping.com/product-category/mobile-accessories/cables-converters/')\n",
      "('Mobile Accessories', '\\nCABLES & CONVERTERS ', 'My Power Soft USB Type-C Cable', '₨\\xa0225.00', '₨\\xa0175.00', 'https://meroshoping.com/wp-content/uploads/2022/02/IMG_20220203_153456.jpg', 'https://meroshoping.com/product-category/mobile-accessories/cables-converters/')\n",
      "('Mobile Accessories', '\\nCABLES & CONVERTERS ', 'My Power USB Cable', '₨\\xa0225.00', '₨\\xa0175.00', 'https://meroshoping.com/wp-content/uploads/2022/02/IMG_20220203_153442.jpg', 'https://meroshoping.com/product-category/mobile-accessories/cables-converters/')\n",
      "('Mobile Accessories', '\\nCABLES & CONVERTERS ', 'Oppo Charger 3.0A', '₨\\xa0200.00', '₨\\xa0150.00', 'https://meroshoping.com/wp-content/uploads/2022/02/IMG_20220203_161939.jpg', 'https://meroshoping.com/product-category/mobile-accessories/cables-converters/')\n",
      "('Mobile Accessories', '\\nCABLES & CONVERTERS ', 'Redmi 11 33W Charger', '₨\\xa01,200.00', '₨\\xa0900.00', 'https://meroshoping.com/wp-content/uploads/2022/02/IMG_20220203_153948.jpg', 'https://meroshoping.com/product-category/mobile-accessories/cables-converters/')\n",
      "('Mobile Accessories', '\\nCABLES & CONVERTERS ', 'romaa 5A iphone data cable', '₨\\xa0500.00', '₨\\xa0350.00', 'https://meroshoping.com/wp-content/uploads/2022/02/IMG_20220203_162039.jpg', 'https://meroshoping.com/product-category/mobile-accessories/cables-converters/')\n",
      "('Mobile Accessories', '\\nCABLES & CONVERTERS ', 'romaa USB data cable 3A', '₨\\xa0275.00', '₨\\xa0200.00', 'https://meroshoping.com/wp-content/uploads/2022/02/IMG_20220203_152358.jpg', 'https://meroshoping.com/product-category/mobile-accessories/cables-converters/')\n",
      "('Mobile Accessories', '\\nCABLES & CONVERTERS ', 'Samsung Charger 3.1A', '₨\\xa0200.00', '₨\\xa0150.00', 'https://meroshoping.com/wp-content/uploads/2022/02/IMG_20220203_161932.jpg', 'https://meroshoping.com/product-category/mobile-accessories/cables-converters/')\n",
      "('Mobile Accessories', '\\nCABLES & CONVERTERS ', 'Samsung F-60 18W Charger', '₨\\xa0500.00', '₨\\xa0400.00', 'https://meroshoping.com/wp-content/uploads/2022/02/IMG_20220203_153936.jpg', 'https://meroshoping.com/product-category/mobile-accessories/cables-converters/')\n",
      "('Mobile Accessories', '\\nEARPHONES ', 'Dikon Earphone', '₨\\xa0300.00', '₨\\xa0200.00', 'https://meroshoping.com/wp-content/uploads/2022/02/IMG_20220203_162018.jpg', 'https://meroshoping.com/product-category/mobile-accessories/earphones/')\n",
      "('Mobile Accessories', '\\nEARPHONES ', 'GH A7 Earphone', '₨\\xa0300.00', '₨\\xa0225.00', 'https://meroshoping.com/wp-content/uploads/2022/02/IMG_20220203_162400.jpg', 'https://meroshoping.com/product-category/mobile-accessories/earphones/')\n",
      "('Mobile Accessories', '\\nEARPHONES ', 'Iphone Earphone', '₨\\xa0400.00', '₨\\xa0300.00', 'https://meroshoping.com/wp-content/uploads/2022/02/IMG_20220203_153114.jpg', 'https://meroshoping.com/product-category/mobile-accessories/earphones/')\n",
      "('Mobile Accessories', '\\nEARPHONES ', 'Iphone Earphone Best sound Quality', '₨\\xa0550.00', '₨\\xa0400.00', 'https://meroshoping.com/wp-content/uploads/2022/02/IMG_20220203_154126.jpg', 'https://meroshoping.com/product-category/mobile-accessories/earphones/')\n",
      "('Mobile Accessories', '\\nEARPHONES ', 'Iphone Pop Up Earphone', '₨\\xa0700.00', '₨\\xa0500.00', 'https://meroshoping.com/wp-content/uploads/2022/02/IMG_20220203_154219.jpg', 'https://meroshoping.com/product-category/mobile-accessories/earphones/')\n",
      "('Mobile Accessories', '\\nEARPHONES ', 'KDS Earphone', '₨\\xa0200.00', '₨\\xa0100.00', 'https://meroshoping.com/wp-content/uploads/2022/02/IMG_20220203_153509.jpg', 'https://meroshoping.com/product-category/mobile-accessories/earphones/')\n",
      "('Mobile Accessories', '\\nEARPHONES ', 'My Power E9 Earphone', '₨\\xa0350.00', '₨\\xa0250.00', 'https://meroshoping.com/wp-content/uploads/2022/02/IMG_20220203_153732.jpg', 'https://meroshoping.com/product-category/mobile-accessories/earphones/')\n",
      "('Mobile Accessories', '\\nEARPHONES ', 'Samsung AKG Earphone', '₨\\xa0200.00', '₨\\xa0150.00', 'https://meroshoping.com/wp-content/uploads/2022/02/IMG_20220203_153837.jpg', 'https://meroshoping.com/product-category/mobile-accessories/earphones/')\n",
      "('Mobile Accessories', '\\nEARPHONES ', 'YESPLUS YS 103', '₨\\xa0350.00', '₨\\xa0250.00', 'https://meroshoping.com/wp-content/uploads/2022/02/IMG_20220203_152855.jpg', 'https://meroshoping.com/product-category/mobile-accessories/earphones/')\n",
      "('Mobile Accessories', '\\nEARPHONES ', 'YESPLUS YS 105', '₨\\xa0350.00', '₨\\xa0225.00', 'https://meroshoping.com/wp-content/uploads/2022/02/IMG_20220203_162116.jpg', 'https://meroshoping.com/product-category/mobile-accessories/earphones/')\n",
      "('Mobile Accessories', '\\nAIRPODS ', 'romaa Bluetooth Airpods', '₨\\xa01,050.00', '₨\\xa0850.00', 'https://meroshoping.com/wp-content/uploads/2022/02/IMG_20220203_152500.jpg', 'https://meroshoping.com/product-category/mobile-accessories/airpods/')\n",
      "('Mobile Accessories', '\\nMemory(SD) Card ', 'Samsung SD Card 16 GB', '₨\\xa0550.00', '₨\\xa0350.00', 'https://meroshoping.com/wp-content/uploads/2022/02/IMG_20220203_162426.jpg', 'https://meroshoping.com/product-category/mobile-accessories/memorysd-card/')\n",
      "('Mobile Accessories', '\\nMemory(SD) Card ', 'Samsung SD Card 32 GB', '₨\\xa0650.00', '₨\\xa0400.00', 'https://meroshoping.com/wp-content/uploads/2022/02/IMG_20220203_162454.jpg', 'https://meroshoping.com/product-category/mobile-accessories/memorysd-card/')\n",
      "('Mobile Accessories', '\\nMemory(SD) Card ', 'Samsung SD Card 4GB', '₨\\xa0400.00', '₨\\xa0325.00', 'https://meroshoping.com/wp-content/uploads/2022/02/IMG_20220203_162503.jpg', 'https://meroshoping.com/product-category/mobile-accessories/memorysd-card/')\n",
      "('Mobile Accessories', '\\nMemory(SD) Card ', 'Sand Disk Ultra A1 32 GB', None, None, 'https://meroshoping.com/wp-content/uploads/2022/02/IMG_20220203_162512.jpg', 'https://meroshoping.com/product-category/mobile-accessories/memorysd-card/')\n",
      "('Mobile Accessories', '\\nBLUETOOTH SPEAKER ', 'JBL M3 Mini Portable', None, None, 'https://meroshoping.com/wp-content/uploads/2022/02/IMG_20220203_152651.jpg', 'https://meroshoping.com/product-category/mobile-accessories/bluetooth-speaker/')\n",
      "('Mobile Accessories', '\\nBLUETOOTH SPEAKER ', 'Q300 Bluetooth Speaker', '₨\\xa01,100.00', '₨\\xa0900.00', 'https://meroshoping.com/wp-content/uploads/2022/02/IMG_20220203_152549.jpg', 'https://meroshoping.com/product-category/mobile-accessories/bluetooth-speaker/')\n"
     ]
    }
   ],
   "source": [
    "for link in meroshopping_links:\n",
    "    \n",
    "        response = requests.get(link)\n",
    "        soup = bs(response.content,'html.parser')\n",
    "        product_wrapper = soup.find_all(\"div\",class_=\"product-wrapper\")\n",
    "        catagory = soup.find(\"a\",class_ =\"breadcrumb-link breadcrumb-link-last\").text\n",
    "        src = link\n",
    "        for product in product_wrapper:\n",
    "            name = product.find(\"h3\",class_ = \"wd-entities-title\").text\n",
    "            img_src = product.img[\"src\"]\n",
    "            price = product.find(\"span\",class_ =\"price\")\n",
    "            \n",
    "            sub_catagory = product.find(\"div\",class_=\"wd-product-cats\").text\n",
    "            try:\n",
    "                marked_price = price.bdi.text\n",
    "            except:\n",
    "                marked_price = None\n",
    "            try:\n",
    "                discouted_price = price.ins.text\n",
    "                \n",
    "            except:\n",
    "                discouted_price = None\n",
    "            \n",
    "            row = (catagory,sub_catagory,name,marked_price,discouted_price,img_src,src)\n",
    "            print(row)\n",
    "   "
   ]
  },
  {
   "cell_type": "code",
   "execution_count": null,
   "metadata": {},
   "outputs": [],
   "source": []
  }
 ],
 "metadata": {
  "interpreter": {
   "hash": "916dbcbb3f70747c44a77c7bcd40155683ae19c65e1c03b4aa3499c5328201f1"
  },
  "kernelspec": {
   "display_name": "Python 3.8.10 64-bit",
   "language": "python",
   "name": "python3"
  },
  "language_info": {
   "codemirror_mode": {
    "name": "ipython",
    "version": 3
   },
   "file_extension": ".py",
   "mimetype": "text/x-python",
   "name": "python",
   "nbconvert_exporter": "python",
   "pygments_lexer": "ipython3",
   "version": "3.8.10"
  },
  "orig_nbformat": 4
 },
 "nbformat": 4,
 "nbformat_minor": 2
}
